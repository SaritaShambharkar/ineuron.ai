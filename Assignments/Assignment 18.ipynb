{
 "cells": [
  {
   "cell_type": "markdown",
   "id": "4dcef027",
   "metadata": {},
   "source": [
    "1. Create a zoo.py file first. Define the hours() function, which prints the string 'Open 9-5 daily'. Then, use the interactive interpreter to import the zoo module and call its hours() function."
   ]
  },
  {
   "cell_type": "code",
   "execution_count": 1,
   "id": "c1c30f5b",
   "metadata": {},
   "outputs": [],
   "source": [
    "# zoo.py\n",
    "\n",
    "def hours():\n",
    "    print('Open 9-5 daily')\n"
   ]
  },
  {
   "cell_type": "markdown",
   "id": "871915bf",
   "metadata": {},
   "source": [
    "2. In the interactive interpreter, import the zoo module as menagerie and call its hours() function"
   ]
  },
  {
   "cell_type": "code",
   "execution_count": null,
   "id": "5097370a",
   "metadata": {},
   "outputs": [],
   "source": [
    "# Import the zoo module and call its hours() function\n",
    "import zoo\n",
    "zoo.hours()\n"
   ]
  },
  {
   "cell_type": "markdown",
   "id": "2aa29263",
   "metadata": {},
   "source": [
    "3. Using the interpreter, explicitly import and call the hours() function from zoo."
   ]
  },
  {
   "cell_type": "code",
   "execution_count": null,
   "id": "db05da96",
   "metadata": {},
   "outputs": [],
   "source": [
    "# Import the zoo module as menagerie and call its hours() function\n",
    "import zoo as menagerie\n",
    "menagerie.hours()\n"
   ]
  },
  {
   "cell_type": "markdown",
   "id": "42fd914c",
   "metadata": {},
   "source": [
    "4. Import the hours() function as info and call it."
   ]
  },
  {
   "cell_type": "code",
   "execution_count": null,
   "id": "5fc9cebd",
   "metadata": {},
   "outputs": [],
   "source": [
    "# Explicitly import and call the hours() function from zoo\n",
    "from zoo import hours\n",
    "hours()\n"
   ]
  },
  {
   "cell_type": "markdown",
   "id": "9bbf886f",
   "metadata": {},
   "source": [
    "5. Create a plain dictionary with the key-value pairs 'a': 1, 'b': 2, and 'c': 3, and print it out."
   ]
  },
  {
   "cell_type": "code",
   "execution_count": 6,
   "id": "693404c3",
   "metadata": {},
   "outputs": [
    {
     "name": "stdout",
     "output_type": "stream",
     "text": [
      "{'a': 1, 'b': 2, 'c': 3}\n"
     ]
    }
   ],
   "source": [
    "\n",
    "plain_dict = {'a': 1, 'b': 2, 'c': 3}\n",
    "print(plain_dict)\n"
   ]
  },
  {
   "cell_type": "markdown",
   "id": "25b1740a",
   "metadata": {},
   "source": [
    "6.Make an OrderedDict called fancy from the same pairs listed in 5 and print it. Did it print in the same order as plain?"
   ]
  },
  {
   "cell_type": "code",
   "execution_count": 8,
   "id": "5b49cf38",
   "metadata": {},
   "outputs": [
    {
     "name": "stdout",
     "output_type": "stream",
     "text": [
      "OrderedDict([('a', 1), ('b', 2), ('c', 3)])\n"
     ]
    }
   ],
   "source": [
    "from collections import OrderedDict\n",
    "fancy = OrderedDict([('a', 1), ('b', 2), ('c', 3)])\n",
    "print(fancy)\n"
   ]
  },
  {
   "cell_type": "markdown",
   "id": "1a37a95b",
   "metadata": {},
   "source": [
    "7. Make a default dictionary called dict_of_lists and pass it the argument list. Make the list dict_of_lists['a'] and append the value 'something for a' to it in one assignment. Print dict_of_lists['a']."
   ]
  },
  {
   "cell_type": "code",
   "execution_count": 10,
   "id": "29ab1f3c",
   "metadata": {},
   "outputs": [
    {
     "name": "stdout",
     "output_type": "stream",
     "text": [
      "['something for a']\n"
     ]
    }
   ],
   "source": [
    "from collections import defaultdict\n",
    "dict_of_lists = defaultdict(list)\n",
    "dict_of_lists['a'].append('something for a')\n",
    "print(dict_of_lists['a'])\n"
   ]
  },
  {
   "cell_type": "code",
   "execution_count": null,
   "id": "d0819c4a",
   "metadata": {},
   "outputs": [],
   "source": []
  }
 ],
 "metadata": {
  "kernelspec": {
   "display_name": "Python 3 (ipykernel)",
   "language": "python",
   "name": "python3"
  },
  "language_info": {
   "codemirror_mode": {
    "name": "ipython",
    "version": 3
   },
   "file_extension": ".py",
   "mimetype": "text/x-python",
   "name": "python",
   "nbconvert_exporter": "python",
   "pygments_lexer": "ipython3",
   "version": "3.9.13"
  }
 },
 "nbformat": 4,
 "nbformat_minor": 5
}
