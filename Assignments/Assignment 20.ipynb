{
 "cells": [
  {
   "cell_type": "markdown",
   "id": "5235aded",
   "metadata": {},
   "source": [
    "1. Set the variable test1 to the string 'This is a test of the emergency text system,' and save test1 to a file named test.txt."
   ]
  },
  {
   "cell_type": "code",
   "execution_count": 1,
   "id": "b7762ce7",
   "metadata": {},
   "outputs": [],
   "source": [
    "# Set the variable test1\n",
    "test1 = 'This is a test of the emergency text system.'\n",
    "\n",
    "# Save test1 to a file named test.txt\n",
    "with open('test.txt', 'w') as file:\n",
    "    file.write(test1)\n"
   ]
  },
  {
   "cell_type": "markdown",
   "id": "556b3d5c",
   "metadata": {},
   "source": [
    "2. Read the contents of the file test.txt into the variable test2. Is there a difference between test 1 and test 2?"
   ]
  },
  {
   "cell_type": "code",
   "execution_count": 2,
   "id": "94053511",
   "metadata": {},
   "outputs": [
    {
     "name": "stdout",
     "output_type": "stream",
     "text": [
      "True\n"
     ]
    }
   ],
   "source": [
    "# Read the contents of the file test.txt into test2\n",
    "with open('test.txt', 'r') as file:\n",
    "    test2 = file.read()\n",
    "\n",
    "# Check if there is a difference between test1 and test2\n",
    "print(test1 == test2)  # This will print True if they are the same\n"
   ]
  },
  {
   "cell_type": "markdown",
   "id": "9e7b2f6e",
   "metadata": {},
   "source": [
    "3. Create a CSV file called books.csv by using these lines:\n",
    "title,author,year\n",
    "The Weirdstone of Brisingamen,Alan Garner,1960\n",
    "Perdido Street Station,China Miéville,2000\n",
    "Thud!,Terry Pratchett,2005\n",
    "The Spellman Files,Lisa Lutz,2007\n",
    "Small Gods,Terry Pratchett,1992\n"
   ]
  },
  {
   "cell_type": "code",
   "execution_count": 3,
   "id": "880ad6b3",
   "metadata": {},
   "outputs": [],
   "source": [
    "csv_data = \"\"\"title,author,year\n",
    "The Weirdstone of Brisingamen,Alan Garner,1960\n",
    "Perdido Street Station,China Miéville,2000\n",
    "Thud!,Terry Pratchett,2005\n",
    "The Spellman Files,Lisa Lutz,2007\n",
    "Small Gods,Terry Pratchett,1992\"\"\"\n",
    "\n",
    "with open('books.csv', 'w') as file:\n",
    "    file.write(csv_data)\n"
   ]
  },
  {
   "cell_type": "markdown",
   "id": "a565b6b1",
   "metadata": {},
   "source": [
    "4. Use the sqlite3 module to create a SQLite database called books.db, and a table called books with these fields: title (text), author (text), and year (integer)."
   ]
  },
  {
   "cell_type": "code",
   "execution_count": 4,
   "id": "626bf597",
   "metadata": {},
   "outputs": [],
   "source": [
    "import sqlite3\n",
    "\n",
    "# Create a SQLite database called books.db\n",
    "conn = sqlite3.connect('books.db')\n",
    "cursor = conn.cursor()\n",
    "\n",
    "# Create a table called books\n",
    "cursor.execute('''\n",
    "    CREATE TABLE books (\n",
    "        title TEXT,\n",
    "        author TEXT,\n",
    "        year INTEGER\n",
    "    )\n",
    "''')\n",
    "\n",
    "# Commit and close the connection\n",
    "conn.commit()\n",
    "conn.close()\n"
   ]
  },
  {
   "cell_type": "markdown",
   "id": "0e2e717b",
   "metadata": {},
   "source": [
    "5. Read books.csv and insert its data into the book table."
   ]
  },
  {
   "cell_type": "code",
   "execution_count": 5,
   "id": "52e2d521",
   "metadata": {},
   "outputs": [],
   "source": [
    "import csv\n",
    "\n",
    "# Read books.csv and insert its data into the books table\n",
    "with open('books.csv', 'r') as csv_file:\n",
    "    csv_reader = csv.DictReader(csv_file)\n",
    "    for row in csv_reader:\n",
    "        conn = sqlite3.connect('books.db')\n",
    "        cursor = conn.cursor()\n",
    "        cursor.execute('INSERT INTO books VALUES (?, ?, ?)', (row['title'], row['author'], row['year']))\n",
    "        conn.commit()\n",
    "        conn.close()\n"
   ]
  },
  {
   "cell_type": "markdown",
   "id": "ad4d13c7",
   "metadata": {},
   "source": [
    "6. Select and print the title column from the book table in alphabetical order."
   ]
  },
  {
   "cell_type": "code",
   "execution_count": 6,
   "id": "288ced52",
   "metadata": {},
   "outputs": [
    {
     "name": "stdout",
     "output_type": "stream",
     "text": [
      "Perdido Street Station\n",
      "Small Gods\n",
      "The Spellman Files\n",
      "The Weirdstone of Brisingamen\n",
      "Thud!\n"
     ]
    }
   ],
   "source": [
    "conn = sqlite3.connect('books.db')\n",
    "cursor = conn.cursor()\n",
    "\n",
    "cursor.execute('SELECT title FROM books ORDER BY title')\n",
    "titles = cursor.fetchall()\n",
    "\n",
    "for title in titles:\n",
    "    print(title[0])\n",
    "\n",
    "conn.close()\n"
   ]
  },
  {
   "cell_type": "markdown",
   "id": "70227bc8",
   "metadata": {},
   "source": [
    "7. From the book table, select and print all columns in the order of publication."
   ]
  },
  {
   "cell_type": "code",
   "execution_count": 7,
   "id": "09131951",
   "metadata": {},
   "outputs": [
    {
     "name": "stdout",
     "output_type": "stream",
     "text": [
      "('The Weirdstone of Brisingamen', 'Alan Garner', 1960)\n",
      "('Small Gods', 'Terry Pratchett', 1992)\n",
      "('Perdido Street Station', 'China Miéville', 2000)\n",
      "('Thud!', 'Terry Pratchett', 2005)\n",
      "('The Spellman Files', 'Lisa Lutz', 2007)\n"
     ]
    }
   ],
   "source": [
    "conn = sqlite3.connect('books.db')\n",
    "cursor = conn.cursor()\n",
    "\n",
    "cursor.execute('SELECT * FROM books ORDER BY year')\n",
    "books = cursor.fetchall()\n",
    "\n",
    "for book in books:\n",
    "    print(book)\n",
    "\n",
    "conn.close()\n"
   ]
  },
  {
   "cell_type": "markdown",
   "id": "1300cee8",
   "metadata": {},
   "source": [
    "8. Use the sqlalchemy module to connect to the sqlite3 database books.db that you just made in exercise 6."
   ]
  },
  {
   "cell_type": "code",
   "execution_count": 8,
   "id": "3b33972e",
   "metadata": {},
   "outputs": [],
   "source": [
    "from sqlalchemy import create_engine\n",
    "from sqlalchemy.orm import sessionmaker\n",
    "\n",
    "# Connect to the SQLite database using SQLAlchemy\n",
    "engine = create_engine('sqlite:///books.db')\n",
    "Session = sessionmaker(bind=engine)\n",
    "session = Session()\n"
   ]
  },
  {
   "cell_type": "markdown",
   "id": "eddc2a99",
   "metadata": {},
   "source": [
    "9. Install the Redis server and the Python redis library (pip install redis) on your computer. Create a Redis hash called test with the fields count (1) and name ('Fester Bestertester'). Print all the fields for test."
   ]
  },
  {
   "cell_type": "code",
   "execution_count": null,
   "id": "75b940bb",
   "metadata": {},
   "outputs": [],
   "source": [
    "import redis\n",
    "\n",
    "# Create a Redis connection\n",
    "r = redis.StrictRedis(host='localhost', port=6379, db=0)\n",
    "\n",
    "# Create a Redis hash called test\n",
    "r.hset('test', 'count', 1)\n",
    "r.hset('test', 'name', 'Fester Bestertester')\n",
    "\n",
    "# Print all fields for test\n",
    "fields = r.hgetall('test')\n",
    "for field, value in fields.items():\n",
    "    print(f'{field.decode(\"utf-8\")}: {value.decode(\"utf-8\")}')\n"
   ]
  },
  {
   "cell_type": "markdown",
   "id": "ce71ab2e",
   "metadata": {},
   "source": [
    "10. Increment the count field of test and print it.\n",
    "\n"
   ]
  },
  {
   "cell_type": "code",
   "execution_count": null,
   "id": "87251611",
   "metadata": {},
   "outputs": [],
   "source": [
    "# Increment the count field of test\n",
    "count = r.hincrby('test', 'count', 1)\n",
    "\n",
    "# Print the updated count field\n",
    "print(count)\n"
   ]
  },
  {
   "cell_type": "code",
   "execution_count": null,
   "id": "38c86c21",
   "metadata": {},
   "outputs": [],
   "source": []
  }
 ],
 "metadata": {
  "kernelspec": {
   "display_name": "Python 3 (ipykernel)",
   "language": "python",
   "name": "python3"
  },
  "language_info": {
   "codemirror_mode": {
    "name": "ipython",
    "version": 3
   },
   "file_extension": ".py",
   "mimetype": "text/x-python",
   "name": "python",
   "nbconvert_exporter": "python",
   "pygments_lexer": "ipython3",
   "version": "3.9.13"
  }
 },
 "nbformat": 4,
 "nbformat_minor": 5
}
