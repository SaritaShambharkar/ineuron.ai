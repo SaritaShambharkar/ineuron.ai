{
 "cells": [
  {
   "cell_type": "markdown",
   "id": "bd6f37ad-2973-48e5-9278-9ee7bef26609",
   "metadata": {},
   "source": [
    "1. Write a Python program to find words which are greater than given length k?"
   ]
  },
  {
   "cell_type": "code",
   "execution_count": 2,
   "id": "fecb6e45-e32d-4900-917c-6e6b0333b59d",
   "metadata": {},
   "outputs": [
    {
     "name": "stdout",
     "output_type": "stream",
     "text": [
      "Words greater than length 4: ['Python', 'programming', 'interesting']\n"
     ]
    }
   ],
   "source": [
    "def words_greater_than_k(sentence, k):\n",
    "    words = sentence.split()\n",
    "    result = [word for word in words if len(word) > k]\n",
    "    return result\n",
    "\n",
    "sentence = \"Python programming is fun and interesting\"\n",
    "k = 4\n",
    "result = words_greater_than_k(sentence, k)\n",
    "print(f\"Words greater than length {k}:\", result)\n"
   ]
  },
  {
   "cell_type": "markdown",
   "id": "2d3d3053-b756-46f1-9ff2-ee3d009f9ee9",
   "metadata": {},
   "source": [
    "2. Write a Python program for removing i-th character from a string?"
   ]
  },
  {
   "cell_type": "code",
   "execution_count": 4,
   "id": "564ce52b-748c-43d9-a6c8-932fef7d247c",
   "metadata": {},
   "outputs": [
    {
     "name": "stdout",
     "output_type": "stream",
     "text": [
      "String after removing 2-th character: Pyhon\n"
     ]
    }
   ],
   "source": [
    "def remove_ith_char(input_string, i):\n",
    "    result = input_string[:i] + input_string[i+1:]\n",
    "    return result\n",
    "\n",
    "input_str = \"Python\"\n",
    "i = 2\n",
    "modified_str = remove_ith_char(input_str, i)\n",
    "print(f\"String after removing {i}-th character:\", modified_str)\n"
   ]
  },
  {
   "cell_type": "markdown",
   "id": "75d2d2cd-82eb-43df-9a69-83b910b4d9f6",
   "metadata": {},
   "source": [
    "3. Write a Python program to split and join a string?"
   ]
  },
  {
   "cell_type": "code",
   "execution_count": 5,
   "id": "d5ddcfcd-e9be-4a5c-aeb2-eb25fc8011e3",
   "metadata": {},
   "outputs": [
    {
     "name": "stdout",
     "output_type": "stream",
     "text": [
      "Modified string: Python-programming-is-fun\n"
     ]
    }
   ],
   "source": [
    "def split_and_join(input_string):\n",
    "    words = input_string.split()\n",
    "    joined_string = \"-\".join(words)\n",
    "    return joined_string\n",
    "\n",
    "input_str = \"Python programming is fun\"\n",
    "result = split_and_join(input_str)\n",
    "print(\"Modified string:\", result)\n"
   ]
  },
  {
   "cell_type": "markdown",
   "id": "a35b3190-fb42-4072-a943-9e0b76b2c911",
   "metadata": {},
   "source": [
    "4. Write a Python to check if a given string is binary string or not?"
   ]
  },
  {
   "cell_type": "code",
   "execution_count": 6,
   "id": "1ae11a4d-574c-40b9-83d7-e67e0b78631b",
   "metadata": {},
   "outputs": [
    {
     "name": "stdout",
     "output_type": "stream",
     "text": [
      "110101011 is a binary string: True\n"
     ]
    }
   ],
   "source": [
    "def is_binary_string(input_string):\n",
    "    return all(bit in '01' for bit in input_string)\n",
    "\n",
    "binary_str = \"110101011\"\n",
    "result = is_binary_string(binary_str)\n",
    "print(f\"{binary_str} is a binary string: {result}\")\n"
   ]
  },
  {
   "cell_type": "markdown",
   "id": "cc86307b-8f01-4abd-ac76-1c47b22cb76f",
   "metadata": {},
   "source": [
    "5. Write a Python program to find uncommon words from two Strings?"
   ]
  },
  {
   "cell_type": "code",
   "execution_count": 7,
   "id": "986ef650-2b07-430c-8a0c-c8e302c51ae0",
   "metadata": {},
   "outputs": [
    {
     "name": "stdout",
     "output_type": "stream",
     "text": [
      "Uncommon words: {'Programming', 'programming', 'in', 'fun', 'interesting'}\n"
     ]
    }
   ],
   "source": [
    "def uncommon_words(str1, str2):\n",
    "    words1 = set(str1.split())\n",
    "    words2 = set(str2.split())\n",
    "    uncommon = words1.symmetric_difference(words2)\n",
    "    return uncommon\n",
    "\n",
    "string1 = \"Python programming is interesting\"\n",
    "string2 = \"Programming in Python is fun\"\n",
    "result = uncommon_words(string1, string2)\n",
    "print(\"Uncommon words:\", result)\n"
   ]
  },
  {
   "cell_type": "code",
   "execution_count": null,
   "id": "bdf6876f-11a8-49cc-b864-fc71d4dbdd2d",
   "metadata": {},
   "outputs": [],
   "source": [
    "6. Write a Python to find all duplicate characters in string?"
   ]
  }
 ],
 "metadata": {
  "kernelspec": {
   "display_name": "Python 3 (ipykernel)",
   "language": "python",
   "name": "python3"
  },
  "language_info": {
   "codemirror_mode": {
    "name": "ipython",
    "version": 3
   },
   "file_extension": ".py",
   "mimetype": "text/x-python",
   "name": "python",
   "nbconvert_exporter": "python",
   "pygments_lexer": "ipython3",
   "version": "3.10.6"
  }
 },
 "nbformat": 4,
 "nbformat_minor": 5
}
