{
 "cells": [
  {
   "cell_type": "markdown",
   "id": "6821e6c8",
   "metadata": {},
   "source": [
    "1. Write a Python Program to Find LCM?"
   ]
  },
  {
   "cell_type": "code",
   "execution_count": 2,
   "id": "e9762da3",
   "metadata": {},
   "outputs": [
    {
     "name": "stdout",
     "output_type": "stream",
     "text": [
      "Enter the first number: 4\n",
      "Enter the second number: 6\n",
      "The LCM of 4 and 6 is 12.\n"
     ]
    }
   ],
   "source": [
    "# Function to calculate the Greatest Common Divisor (GCD) using Euclidean Algorithm\n",
    "def gcd(a, b):\n",
    "    while b:\n",
    "        a, b = b, a % b\n",
    "    return a\n",
    "\n",
    "# Function to calculate the LCM\n",
    "def lcm(x, y):\n",
    "    return (x * y) // gcd(x, y)\n",
    "\n",
    "# Input two numbers from the user\n",
    "num1 = int(input(\"Enter the first number: \"))\n",
    "num2 = int(input(\"Enter the second number: \"))\n",
    "\n",
    "# Check if the numbers are positive integers\n",
    "if num1 <= 0 or num2 <= 0:\n",
    "    print(\"Please enter positive integers.\")\n",
    "else:\n",
    "    # Calculate and print the LCM\n",
    "    result_lcm = lcm(num1, num2)\n",
    "    print(f\"The LCM of {num1} and {num2} is {result_lcm}.\")\n"
   ]
  },
  {
   "cell_type": "markdown",
   "id": "e8733202",
   "metadata": {},
   "source": [
    "2. Write a Python Program to Find HCF?"
   ]
  },
  {
   "cell_type": "code",
   "execution_count": 3,
   "id": "6cf8a997",
   "metadata": {},
   "outputs": [
    {
     "name": "stdout",
     "output_type": "stream",
     "text": [
      "Enter the first number: 5\n",
      "Enter the second number: 6\n",
      "The HCF (GCD) of 5 and 6 is 1.\n"
     ]
    }
   ],
   "source": [
    "# Function to calculate the Greatest Common Divisor (GCD) using Euclidean Algorithm\n",
    "def gcd(a, b):\n",
    "    while b:\n",
    "        a, b = b, a % b\n",
    "    return a\n",
    "\n",
    "# Input two numbers from the user\n",
    "num1 = int(input(\"Enter the first number: \"))\n",
    "num2 = int(input(\"Enter the second number: \"))\n",
    "\n",
    "# Check if the numbers are positive integers\n",
    "if num1 <= 0 or num2 <= 0:\n",
    "    print(\"Please enter positive integers.\")\n",
    "else:\n",
    "    # Calculate and print the HCF (GCD)\n",
    "    result_gcd = gcd(num1, num2)\n",
    "    print(f\"The HCF (GCD) of {num1} and {num2} is {result_gcd}.\")\n"
   ]
  },
  {
   "cell_type": "markdown",
   "id": "c9b49c8f",
   "metadata": {},
   "source": [
    "3. Write a Python Program to Convert Decimal to Binary, Octal and Hexadecimal?"
   ]
  },
  {
   "cell_type": "code",
   "execution_count": 5,
   "id": "e4af7955",
   "metadata": {},
   "outputs": [
    {
     "name": "stdout",
     "output_type": "stream",
     "text": [
      "Enter a decimal number: 4\n",
      "Binary representation: 100\n",
      "Octal representation: 0o4\n",
      "Hexadecimal representation: 0x4\n"
     ]
    }
   ],
   "source": [
    "# Input a decimal number from the user\n",
    "decimal_num = int(input(\"Enter a decimal number: \"))\n",
    "\n",
    "# Convert to binary, octal, and hexadecimal\n",
    "binary_num = bin(decimal_num)\n",
    "octal_num = oct(decimal_num)\n",
    "hexadecimal_num = hex(decimal_num)\n",
    "\n",
    "# Remove the '0b' prefix from binary representation\n",
    "binary_num = binary_num[2:]\n",
    "\n",
    "# Print the results\n",
    "print(f\"Binary representation: {binary_num}\")\n",
    "print(f\"Octal representation: {octal_num}\")\n",
    "print(f\"Hexadecimal representation: {hexadecimal_num}\")\n"
   ]
  },
  {
   "cell_type": "markdown",
   "id": "e2aa7434",
   "metadata": {},
   "source": [
    "4. Write a Python Program To Find ASCII value of a character?"
   ]
  },
  {
   "cell_type": "code",
   "execution_count": 9,
   "id": "489dc96b",
   "metadata": {},
   "outputs": [
    {
     "name": "stdout",
     "output_type": "stream",
     "text": [
      "Enter a character: w\n",
      "The ASCII value of 'w' is 119.\n"
     ]
    }
   ],
   "source": [
    "# Input a character from the user\n",
    "char = input(\"Enter a character: \")\n",
    "\n",
    "# Check if the input is a single character\n",
    "if len(char) != 1:\n",
    "    print(\"Please enter a single character.\")\n",
    "else:\n",
    "    # Find and print the ASCII value of the character\n",
    "    ascii_value = ord(char)\n",
    "    print(f\"The ASCII value of '{char}' is {ascii_value}.\")\n"
   ]
  },
  {
   "cell_type": "markdown",
   "id": "1cf3282e",
   "metadata": {},
   "source": [
    "5. Write a Python Program to Make a Simple Calculator with 4 basic mathematical operations?"
   ]
  },
  {
   "cell_type": "code",
   "execution_count": 10,
   "id": "8941accb",
   "metadata": {},
   "outputs": [
    {
     "name": "stdout",
     "output_type": "stream",
     "text": [
      "Select operation:\n",
      "1. Addition\n",
      "2. Subtraction\n",
      "3. Multiplication\n",
      "4. Division\n",
      "Enter choice (1/2/3/4): 1\n",
      "Enter first number: 34\n",
      "Enter second number: 56\n",
      "34.0 + 56.0 = 90.0\n"
     ]
    }
   ],
   "source": [
    "# Function to perform addition\n",
    "def add(x, y):\n",
    "    return x + y\n",
    "\n",
    "# Function to perform subtraction\n",
    "def subtract(x, y):\n",
    "    return x - y\n",
    "\n",
    "# Function to perform multiplication\n",
    "def multiply(x, y):\n",
    "    return x * y\n",
    "\n",
    "# Function to perform division\n",
    "def divide(x, y):\n",
    "    if y == 0:\n",
    "        return \"Cannot divide by zero\"\n",
    "    return x / y\n",
    "\n",
    "# Menu to select the operation\n",
    "print(\"Select operation:\")\n",
    "print(\"1. Addition\")\n",
    "print(\"2. Subtraction\")\n",
    "print(\"3. Multiplication\")\n",
    "print(\"4. Division\")\n",
    "\n",
    "# Input choice from the user\n",
    "choice = input(\"Enter choice (1/2/3/4): \")\n",
    "\n",
    "# Input two numbers from the user\n",
    "num1 = float(input(\"Enter first number: \"))\n",
    "num2 = float(input(\"Enter second number: \"))\n",
    "\n",
    "# Perform the selected operation and display the result\n",
    "if choice == '1':\n",
    "    result = add(num1, num2)\n",
    "    print(f\"{num1} + {num2} = {result}\")\n",
    "elif choice == '2':\n",
    "    result = subtract(num1, num2)\n",
    "    print(f\"{num1} - {num2} = {result}\")\n",
    "elif choice == '3':\n",
    "    result = multiply(num1, num2)\n",
    "    print(f\"{num1} * {num2} = {result}\")\n",
    "elif choice == '4':\n",
    "    result = divide(num1, num2)\n",
    "    print(f\"{num1} / {num2} = {result}\")\n",
    "else:\n",
    "    print(\"Invalid input. Please choose a valid operation (1/2/3/4).\")\n",
    "\n",
    "    "
   ]
  },
  {
   "cell_type": "code",
   "execution_count": null,
   "id": "dd9135be",
   "metadata": {},
   "outputs": [],
   "source": []
  }
 ],
 "metadata": {
  "kernelspec": {
   "display_name": "Python 3 (ipykernel)",
   "language": "python",
   "name": "python3"
  },
  "language_info": {
   "codemirror_mode": {
    "name": "ipython",
    "version": 3
   },
   "file_extension": ".py",
   "mimetype": "text/x-python",
   "name": "python",
   "nbconvert_exporter": "python",
   "pygments_lexer": "ipython3",
   "version": "3.9.13"
  }
 },
 "nbformat": 4,
 "nbformat_minor": 5
}
