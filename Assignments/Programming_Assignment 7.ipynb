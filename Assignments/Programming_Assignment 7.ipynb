{
 "cells": [
  {
   "cell_type": "markdown",
   "id": "8911adbe",
   "metadata": {},
   "source": [
    "1. Write a Python Program to find sum of array?"
   ]
  },
  {
   "cell_type": "code",
   "execution_count": 1,
   "id": "2ec43f21",
   "metadata": {},
   "outputs": [
    {
     "name": "stdout",
     "output_type": "stream",
     "text": [
      "Enter an array of numbers (comma-separated): 5\n",
      "The sum of the array is: 5\n"
     ]
    }
   ],
   "source": [
    "# Function to find the sum of an array\n",
    "def find_sum(arr):\n",
    "    total = 0\n",
    "    for num in arr:\n",
    "        total += num\n",
    "    return total\n",
    "\n",
    "# Input the array from the user (comma-separated)\n",
    "input_str = input(\"Enter an array of numbers (comma-separated): \")\n",
    "\n",
    "# Convert the input string into a list of integers\n",
    "try:\n",
    "    num_list = [int(x) for x in input_str.split(',')]\n",
    "    \n",
    "    # Call the find_sum function to calculate the sum\n",
    "    result = find_sum(num_list)\n",
    "    \n",
    "    # Print the sum of the array\n",
    "    print(f\"The sum of the array is: {result}\")\n",
    "except ValueError:\n",
    "    print(\"Invalid input. Please enter numbers separated by commas.\")\n"
   ]
  },
  {
   "cell_type": "markdown",
   "id": "42e4831c",
   "metadata": {},
   "source": [
    "2. Write a Python Program to find largest element in an array?"
   ]
  },
  {
   "cell_type": "code",
   "execution_count": 2,
   "id": "bdef6a28",
   "metadata": {},
   "outputs": [
    {
     "name": "stdout",
     "output_type": "stream",
     "text": [
      "Enter an array of numbers (comma-separated): 4\n",
      "The largest element in the array is: 4\n"
     ]
    }
   ],
   "source": [
    "# Function to find the largest element in an array\n",
    "def find_largest(arr):\n",
    "    if not arr:\n",
    "        return None  # Return None for an empty array\n",
    "    else:\n",
    "        largest = arr[0]\n",
    "        for num in arr:\n",
    "            if num > largest:\n",
    "                largest = num\n",
    "        return largest\n",
    "\n",
    "# Input the array from the user (comma-separated)\n",
    "input_str = input(\"Enter an array of numbers (comma-separated): \")\n",
    "\n",
    "# Convert the input string into a list of integers\n",
    "try:\n",
    "    num_list = [int(x) for x in input_str.split(',')]\n",
    "    \n",
    "    # Call the find_largest function to find the largest element\n",
    "    result = find_largest(num_list)\n",
    "    \n",
    "    if result is not None:\n",
    "        # Print the largest element in the array\n",
    "        print(f\"The largest element in the array is: {result}\")\n",
    "    else:\n",
    "        print(\"The array is empty.\")\n",
    "except ValueError:\n",
    "    print(\"Invalid input. Please enter numbers separated by commas.\")\n"
   ]
  },
  {
   "cell_type": "markdown",
   "id": "8c24a12e",
   "metadata": {},
   "source": [
    "3. Write a Python Program for array rotation?"
   ]
  },
  {
   "cell_type": "code",
   "execution_count": 10,
   "id": "f91f6995",
   "metadata": {},
   "outputs": [
    {
     "name": "stdout",
     "output_type": "stream",
     "text": [
      "Enter an array of numbers (comma-separated): 23456789\n",
      "Enter the number of positions to rotate: 3\n",
      "Enter rotation direction (left or right): right\n",
      "Rotated array: [23456789]\n"
     ]
    }
   ],
   "source": [
    "# Function to rotate an array to the left by d positions\n",
    "def left_rotate(arr, d):\n",
    "    n = len(arr)\n",
    "    d = d % n  # To handle cases where d > n\n",
    "    return arr[d:] + arr[:d]\n",
    "\n",
    "# Function to rotate an array to the right by d positions\n",
    "def right_rotate(arr, d):\n",
    "    n = len(arr)\n",
    "    d = d % n  # To handle cases where d > n\n",
    "    return arr[-d:] + arr[:-d]\n",
    "\n",
    "# Input the array from the user (comma-separated)\n",
    "input_str = input(\"Enter an array of numbers (comma-separated): \")\n",
    "\n",
    "# Convert the input string into a list of integers\n",
    "try:\n",
    "    num_list = [int(x) for x in input_str.split(',')]\n",
    "    \n",
    "    # Input the number of positions for rotation\n",
    "    d = int(input(\"Enter the number of positions to rotate: \"))\n",
    "    \n",
    "    # Choose the rotation direction\n",
    "    direction = input(\"Enter rotation direction (left or right): \").lower()\n",
    "    \n",
    "    # Perform the rotation and print the result\n",
    "    if direction == 'left':\n",
    "        rotated_array = left_rotate(num_list, d)\n",
    "    elif direction == 'right':\n",
    "        rotated_array = right_rotate(num_list, d)\n",
    "    else:\n",
    "        print(\"Invalid rotation direction. Please enter 'left' or 'right'.\")\n",
    "        rotated_array = None\n",
    "    \n",
    "    if rotated_array is not None:\n",
    "        print(f\"Rotated array: {rotated_array}\")\n",
    "except ValueError:\n",
    "    print(\"Invalid input. Please enter numbers separated by commas.\")\n"
   ]
  },
  {
   "cell_type": "markdown",
   "id": "1dec976a",
   "metadata": {},
   "source": [
    "4. Write a Python Program to check if given array is Monotonic?"
   ]
  },
  {
   "cell_type": "code",
   "execution_count": 11,
   "id": "56383fa1",
   "metadata": {},
   "outputs": [
    {
     "name": "stdout",
     "output_type": "stream",
     "text": [
      "Enter an array of numbers (comma-separated): 56\n",
      "The given array is monotonic.\n"
     ]
    }
   ],
   "source": [
    "# Function to check if the array is monotonic\n",
    "def is_monotonic(arr):\n",
    "    increasing = decreasing = True\n",
    "    \n",
    "    for i in range(1, len(arr)):\n",
    "        if arr[i] > arr[i - 1]:\n",
    "            decreasing = False\n",
    "        elif arr[i] < arr[i - 1]:\n",
    "            increasing = False\n",
    "    \n",
    "    return increasing or decreasing\n",
    "\n",
    "# Input the array from the user (comma-separated)\n",
    "input_str = input(\"Enter an array of numbers (comma-separated): \")\n",
    "\n",
    "# Convert the input string into a list of integers\n",
    "try:\n",
    "    num_list = [int(x) for x in input_str.split(',')]\n",
    "    \n",
    "    # Check if the array is monotonic and print the result\n",
    "    if is_monotonic(num_list):\n",
    "        print(\"The given array is monotonic.\")\n",
    "    else:\n",
    "        print(\"The given array is not monotonic.\")\n",
    "except ValueError:\n",
    "    print(\"Invalid input. Please enter numbers separated by commas.\")\n"
   ]
  },
  {
   "cell_type": "markdown",
   "id": "7a3592f2",
   "metadata": {},
   "source": []
  }
 ],
 "metadata": {
  "kernelspec": {
   "display_name": "Python 3 (ipykernel)",
   "language": "python",
   "name": "python3"
  },
  "language_info": {
   "codemirror_mode": {
    "name": "ipython",
    "version": 3
   },
   "file_extension": ".py",
   "mimetype": "text/x-python",
   "name": "python",
   "nbconvert_exporter": "python",
   "pygments_lexer": "ipython3",
   "version": "3.9.13"
  }
 },
 "nbformat": 4,
 "nbformat_minor": 5
}
