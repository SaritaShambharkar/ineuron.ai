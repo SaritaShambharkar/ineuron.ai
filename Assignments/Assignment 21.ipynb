{
 "cells": [
  {
   "cell_type": "markdown",
   "id": "411edb9e",
   "metadata": {},
   "source": [
    "1. Add the current date to the text file today.txt as a string."
   ]
  },
  {
   "cell_type": "code",
   "execution_count": 1,
   "id": "d11f39e4",
   "metadata": {},
   "outputs": [],
   "source": [
    "from datetime import datetime\n",
    "\n",
    "# Get the current date as a string\n",
    "current_date = datetime.now().strftime('%Y-%m-%d')\n",
    "\n",
    "# Write the current date to the file\n",
    "with open('today.txt', 'w') as file:\n",
    "    file.write(current_date)\n"
   ]
  },
  {
   "cell_type": "markdown",
   "id": "a7cd8211",
   "metadata": {},
   "source": [
    "2. Read the text file today.txt into the string today_string"
   ]
  },
  {
   "cell_type": "code",
   "execution_count": 2,
   "id": "d1e6da72",
   "metadata": {},
   "outputs": [],
   "source": [
    "with open('today.txt', 'r') as file:\n",
    "    today_string = file.read()\n"
   ]
  },
  {
   "cell_type": "markdown",
   "id": "97a1f200",
   "metadata": {},
   "source": [
    "3. Parse the date from today_string."
   ]
  },
  {
   "cell_type": "code",
   "execution_count": 3,
   "id": "b18f00c2",
   "metadata": {},
   "outputs": [],
   "source": [
    "from datetime import datetime\n",
    "\n",
    "parsed_date = datetime.strptime(today_string, '%Y-%m-%d')\n"
   ]
  },
  {
   "cell_type": "markdown",
   "id": "4c7b2191",
   "metadata": {},
   "source": [
    "4. List the files in your current directory"
   ]
  },
  {
   "cell_type": "code",
   "execution_count": 4,
   "id": "be482774",
   "metadata": {},
   "outputs": [
    {
     "name": "stdout",
     "output_type": "stream",
     "text": [
      "['-u', '.bash_history', '.conda', '.condarc', '.continuum', '.gitconfig', '.ipynb_checkpoints', '.ipython', '.jupyter', '.lesshst', '.matplotlib', '.vscode', '3D Objects', 'AppData', 'Application Data', 'Assignment 16.ipynb', 'Assignment 17.ipynb', 'Assignment 18.ipynb', 'Assignment 19.ipynb', 'Assignment 20.ipynb', 'Assignment 21.ipynb', 'books.csv', 'books.db', 'classsobj.py', 'Contacts', 'Cookies', 'data.csv', 'demo-pipeline', 'Desktop', 'Documents', 'Downloads', 'Dropbox', 'Favorites', 'IntelGraphicsProfiles', 'Internship Project 1.ipynb', 'Links', 'Local Settings', 'Microsoft', 'MicrosoftEdgeBackups', 'Music', 'My Documents', 'NetHood', 'New folder', 'NTUSER.DAT', 'ntuser.dat.LOG1', 'ntuser.dat.LOG2', 'NTUSER.DAT{e28ef2e9-21f6-11ed-a9a6-b2884afd8ed1}.TxR.0.regtrans-ms', 'NTUSER.DAT{e28ef2e9-21f6-11ed-a9a6-b2884afd8ed1}.TxR.1.regtrans-ms', 'NTUSER.DAT{e28ef2e9-21f6-11ed-a9a6-b2884afd8ed1}.TxR.2.regtrans-ms', 'NTUSER.DAT{e28ef2e9-21f6-11ed-a9a6-b2884afd8ed1}.TxR.blf', 'NTUSER.DAT{e28ef2ea-21f6-11ed-a9a6-b2884afd8ed1}.TM.blf', 'NTUSER.DAT{e28ef2ea-21f6-11ed-a9a6-b2884afd8ed1}.TMContainer00000000000000000001.regtrans-ms', 'NTUSER.DAT{e28ef2ea-21f6-11ed-a9a6-b2884afd8ed1}.TMContainer00000000000000000002.regtrans-ms', 'ntuser.ini', 'OneDrive', 'Pictures', 'Postman', 'practice example.ipynb', 'PrintHood', 'Recent', 'Saved Games', 'scrapp image', 'Searches', 'SendTo', 'Start Menu', 'Templates', 'test.py', 'test.txt', 'today.txt', 'Untitled.ipynb', 'Untitled1.ipynb', 'Untitled2.ipynb', 'Untitled3.ipynb', 'Untitled4.ipynb', 'Untitled5.ipynb', 'Untitled6.ipynb', 'Untitled7.ipynb', 'Untitled8.ipynb', 'Videos', 'zomato-data-set-analysis-visualization (1).ipynb']\n"
     ]
    }
   ],
   "source": [
    "import os\n",
    "\n",
    "current_directory = os.getcwd()\n",
    "files_in_current_directory = os.listdir(current_directory)\n",
    "print(files_in_current_directory)\n"
   ]
  },
  {
   "cell_type": "markdown",
   "id": "69095f73",
   "metadata": {},
   "source": [
    "5. Create a list of all of the files in your parent directory (minimum five files should be available).\t"
   ]
  },
  {
   "cell_type": "code",
   "execution_count": 5,
   "id": "f1dbd8e0",
   "metadata": {},
   "outputs": [
    {
     "name": "stdout",
     "output_type": "stream",
     "text": [
      "['All Users', 'Default', 'Default User', 'desktop.ini', 'Public', 'tc']\n"
     ]
    }
   ],
   "source": [
    "parent_directory = os.path.abspath(os.path.join(current_directory, os.pardir))\n",
    "files_in_parent_directory = os.listdir(parent_directory)\n",
    "print(files_in_parent_directory)\n"
   ]
  },
  {
   "cell_type": "markdown",
   "id": "89ae9647",
   "metadata": {},
   "source": [
    "6. Use multiprocessing to create three separate processes. Make each one wait a random number of seconds between one and five, print the current time, and then exit."
   ]
  },
  {
   "cell_type": "code",
   "execution_count": 6,
   "id": "502acde1",
   "metadata": {},
   "outputs": [],
   "source": [
    "import multiprocessing\n",
    "import random\n",
    "import time\n",
    "\n",
    "def print_current_time():\n",
    "    wait_time = random.randint(1, 5)\n",
    "    time.sleep(wait_time)\n",
    "    current_time = time.strftime('%Y-%m-%d %H:%M:%S', time.localtime())\n",
    "    print(f'Process ID: {os.getpid()}, Current Time: {current_time}')\n",
    "\n",
    "if __name__ == '__main__':\n",
    "    processes = []\n",
    "    for _ in range(3):\n",
    "        process = multiprocessing.Process(target=print_current_time)\n",
    "        processes.append(process)\n",
    "        process.start()\n",
    "\n",
    "    for process in processes:\n",
    "        process.join()\n"
   ]
  },
  {
   "cell_type": "markdown",
   "id": "a2567e31",
   "metadata": {},
   "source": [
    "7. Create a date object of your day of birth."
   ]
  },
  {
   "cell_type": "code",
   "execution_count": 7,
   "id": "c96cbf8c",
   "metadata": {},
   "outputs": [],
   "source": [
    "from datetime import date\n",
    "\n",
    "# Replace with your birthdate (year, month, day)\n",
    "birthdate = date(2000, 1, 1)  # Example birthdate\n"
   ]
  },
  {
   "cell_type": "markdown",
   "id": "3bcebeaa",
   "metadata": {},
   "source": [
    "8. What day of the week was your day of birth?"
   ]
  },
  {
   "cell_type": "code",
   "execution_count": 8,
   "id": "a0e988fb",
   "metadata": {},
   "outputs": [
    {
     "name": "stdout",
     "output_type": "stream",
     "text": [
      "Day of the week of your birth: Saturday\n"
     ]
    }
   ],
   "source": [
    "day_of_week = birthdate.strftime('%A')\n",
    "print(f'Day of the week of your birth: {day_of_week}')\n"
   ]
  },
  {
   "cell_type": "markdown",
   "id": "6b1eb315",
   "metadata": {},
   "source": [
    "9. When will you be (or when were you) 10,000 days old?"
   ]
  },
  {
   "cell_type": "code",
   "execution_count": 9,
   "id": "2612b4b6",
   "metadata": {},
   "outputs": [
    {
     "name": "stdout",
     "output_type": "stream",
     "text": [
      "You will be (or were) 10,000 days old on: 2027-05-19\n"
     ]
    }
   ],
   "source": [
    "from datetime import timedelta\n",
    "\n",
    "target_date = birthdate + timedelta(days=10000)\n",
    "print(f'You will be (or were) 10,000 days old on: {target_date.strftime(\"%Y-%m-%d\")}')\n"
   ]
  },
  {
   "cell_type": "code",
   "execution_count": null,
   "id": "702994fd",
   "metadata": {},
   "outputs": [],
   "source": []
  }
 ],
 "metadata": {
  "kernelspec": {
   "display_name": "Python 3 (ipykernel)",
   "language": "python",
   "name": "python3"
  },
  "language_info": {
   "codemirror_mode": {
    "name": "ipython",
    "version": 3
   },
   "file_extension": ".py",
   "mimetype": "text/x-python",
   "name": "python",
   "nbconvert_exporter": "python",
   "pygments_lexer": "ipython3",
   "version": "3.9.13"
  }
 },
 "nbformat": 4,
 "nbformat_minor": 5
}
