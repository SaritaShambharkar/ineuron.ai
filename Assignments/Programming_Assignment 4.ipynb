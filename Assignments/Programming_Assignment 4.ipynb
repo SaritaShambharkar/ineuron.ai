{
 "cells": [
  {
   "cell_type": "markdown",
   "id": "1693448b",
   "metadata": {},
   "source": [
    "1. Write a Python Program to Find the Factorial of a Number?"
   ]
  },
  {
   "cell_type": "code",
   "execution_count": 1,
   "id": "d3ff00c7",
   "metadata": {},
   "outputs": [
    {
     "name": "stdout",
     "output_type": "stream",
     "text": [
      "Enter a number: 4\n",
      "The factorial of 4 is 24.\n"
     ]
    }
   ],
   "source": [
    "# Input a number from the user\n",
    "num = int(input(\"Enter a number: \"))\n",
    "\n",
    "# Initialize the factorial to 1\n",
    "factorial = 1\n",
    "\n",
    "# Check if the number is negative, zero, or positive\n",
    "if num < 0:\n",
    "    print(\"Factorial is not defined for negative numbers.\")\n",
    "elif num == 0:\n",
    "    print(\"The factorial of 0 is 1.\")\n",
    "else:\n",
    "    # Calculate the factorial for positive numbers\n",
    "    for i in range(1, num + 1):\n",
    "        factorial *= i\n",
    "    print(f\"The factorial of {num} is {factorial}.\")\n"
   ]
  },
  {
   "cell_type": "markdown",
   "id": "27d39693",
   "metadata": {},
   "source": [
    "2. Write a Python Program to Display the multiplication Table?"
   ]
  },
  {
   "cell_type": "code",
   "execution_count": 3,
   "id": "51d1389a",
   "metadata": {},
   "outputs": [
    {
     "name": "stdout",
     "output_type": "stream",
     "text": [
      "Enter a number to display its multiplication table: 4\n",
      "Multiplication table for 4:\n",
      "4 x 1 = 4\n",
      "4 x 2 = 8\n",
      "4 x 3 = 12\n",
      "4 x 4 = 16\n",
      "4 x 5 = 20\n",
      "4 x 6 = 24\n",
      "4 x 7 = 28\n",
      "4 x 8 = 32\n",
      "4 x 9 = 36\n",
      "4 x 10 = 40\n"
     ]
    }
   ],
   "source": [
    "# Input a number from the user\n",
    "num = int(input(\"Enter a number to display its multiplication table: \"))\n",
    "\n",
    "# Define the range (e.g., 1 to 10 for the table)\n",
    "start = 1\n",
    "end = 10\n",
    "\n",
    "# Display the multiplication table\n",
    "print(f\"Multiplication table for {num}:\")\n",
    "for i in range(start, end + 1):\n",
    "    result = num * i\n",
    "    print(f\"{num} x {i} = {result}\")\n"
   ]
  },
  {
   "cell_type": "markdown",
   "id": "ec7b2b94",
   "metadata": {},
   "source": [
    "3. Write a Python Program to Print the Fibonacci sequence?"
   ]
  },
  {
   "cell_type": "code",
   "execution_count": 6,
   "id": "a795339c",
   "metadata": {},
   "outputs": [
    {
     "name": "stdout",
     "output_type": "stream",
     "text": [
      "Enter the number of terms in the Fibonacci sequence: 22\n",
      "Fibonacci sequence:\n",
      "0, 1, 1, 2, 3, 5, 8, 13, 21, 34, 55, 89, 144, 233, 377, 610, 987, 1597, 2584, 4181, 6765, 10946, "
     ]
    }
   ],
   "source": [
    "# Input the number of terms for the Fibonacci sequence\n",
    "terms = int(input(\"Enter the number of terms in the Fibonacci sequence: \"))\n",
    "\n",
    "# Initialize the first two terms\n",
    "a, b = 0, 1\n",
    "\n",
    "# Check if the number of terms is valid\n",
    "if terms <= 0:\n",
    "    print(\"Please enter a positive integer.\")\n",
    "elif terms == 1:\n",
    "    print(\"Fibonacci sequence:\")\n",
    "    print(a)\n",
    "else:\n",
    "    print(\"Fibonacci sequence:\")\n",
    "    print(a, end=\", \")\n",
    "    print(b, end=\", \")\n",
    "\n",
    "    # Generate and print the remaining terms\n",
    "    for _ in range(2, terms):\n",
    "        c = a + b\n",
    "        print(c, end=\", \")\n",
    "        a, b = b, c\n"
   ]
  },
  {
   "cell_type": "markdown",
   "id": "4668e844",
   "metadata": {},
   "source": [
    "4. Write a Python Program to Check Armstrong Number?"
   ]
  },
  {
   "cell_type": "code",
   "execution_count": 12,
   "id": "a813911c",
   "metadata": {},
   "outputs": [
    {
     "name": "stdout",
     "output_type": "stream",
     "text": [
      "Enter a number: 34\n",
      "34 is not an Armstrong number.\n"
     ]
    }
   ],
   "source": [
    "# Input a number from the user\n",
    "num = int(input(\"Enter a number: \"))\n",
    "\n",
    "# Calculate the number of digits in the number\n",
    "num_str = str(num)\n",
    "num_digits = len(num_str)\n",
    "\n",
    "# Initialize the sum of digits raised to the power of the number of digits\n",
    "sum_of_powers = 0\n",
    "\n",
    "# Calculate the sum of digits raised to the power of the number of digits\n",
    "temp = num\n",
    "while temp > 0:\n",
    "    digit = temp % 10\n",
    "    sum_of_powers += digit ** num_digits\n",
    "    temp //= 10\n",
    "\n",
    "# Check if the number is an Armstrong number\n",
    "if num == sum_of_powers:\n",
    "    print(f\"{num} is an Armstrong number.\")\n",
    "else:\n",
    "    print(f\"{num} is not an Armstrong number.\")\n"
   ]
  },
  {
   "cell_type": "markdown",
   "id": "f602e889",
   "metadata": {},
   "source": [
    "5. Write a Python Program to Find the Sum of Natural Numbers?"
   ]
  },
  {
   "cell_type": "code",
   "execution_count": 14,
   "id": "cb48075e",
   "metadata": {},
   "outputs": [
    {
     "name": "stdout",
     "output_type": "stream",
     "text": [
      "Enter a positive integer: 67\n",
      "The sum of natural numbers from 1 to 67 is 2278.\n"
     ]
    }
   ],
   "source": [
    "# Input a positive integer from the user\n",
    "n = int(input(\"Enter a positive integer: \"))\n",
    "\n",
    "# Check if the input is a positive integer\n",
    "if n <= 0:\n",
    "    print(\"Please enter a positive integer.\")\n",
    "else:\n",
    "    # Calculate the sum of natural numbers up to n\n",
    "    sum_of_natural_numbers = (n * (n + 1)) // 2\n",
    "\n",
    "    # Print the result\n",
    "    print(f\"The sum of natural numbers from 1 to {n} is {sum_of_natural_numbers}.\")\n"
   ]
  },
  {
   "cell_type": "code",
   "execution_count": null,
   "id": "e299aed8",
   "metadata": {},
   "outputs": [],
   "source": []
  }
 ],
 "metadata": {
  "kernelspec": {
   "display_name": "Python 3 (ipykernel)",
   "language": "python",
   "name": "python3"
  },
  "language_info": {
   "codemirror_mode": {
    "name": "ipython",
    "version": 3
   },
   "file_extension": ".py",
   "mimetype": "text/x-python",
   "name": "python",
   "nbconvert_exporter": "python",
   "pygments_lexer": "ipython3",
   "version": "3.9.13"
  }
 },
 "nbformat": 4,
 "nbformat_minor": 5
}
