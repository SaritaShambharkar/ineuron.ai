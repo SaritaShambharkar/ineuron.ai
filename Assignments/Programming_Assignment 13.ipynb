{
 "cells": [
  {
   "cell_type": "markdown",
   "id": "3bb12ed9-0d79-450f-832b-659e56809316",
   "metadata": {},
   "source": [
    "Question 1:\n",
    "Write a program that calculates and prints the value according to the given formula:\n",
    "Q = Square root of [(2 * C * D)/H]\n",
    "Following are the fixed values of C and H:\n",
    "C is 50. H is 30.\n",
    "D is the variable whose values should be input to your program in a comma-separated\n",
    "sequence.\n",
    "Example\n",
    "Let us assume the following comma separated input sequence is given to the program:\n",
    "100,150,180\n",
    "The output of the program should be:\n",
    "18,22,24"
   ]
  },
  {
   "cell_type": "code",
   "execution_count": 1,
   "id": "0b7d0c0b-129d-4d95-b915-4520134693d6",
   "metadata": {},
   "outputs": [
    {
     "name": "stdout",
     "output_type": "stream",
     "text": [
      "[18, 22, 24]\n"
     ]
    }
   ],
   "source": [
    "import math\n",
    "\n",
    "C, H = 50, 30\n",
    "\n",
    "def calculate_Q(D_values):\n",
    "    result = [int(math.sqrt((2 * C * D) / H)) for D in D_values]\n",
    "    return result\n",
    "\n",
    "input_sequence = [100, 150, 180]\n",
    "output = calculate_Q(input_sequence)\n",
    "print(output)\n"
   ]
  },
  {
   "cell_type": "markdown",
   "id": "0e38ecc2-361f-440e-a7dc-dec8579071f7",
   "metadata": {},
   "source": [
    "Question 2:\n",
    "Write a program which takes 2 digits, X,Y as input and generates a 2-dimensional array. The\n",
    "element value in the i-th row and j-th column of the array should be i*j.\n",
    "Note: i=0,1.., X-1; j=0,1,¡Y-1.\n",
    "Example\n",
    "Suppose the following inputs are given to the program:\n",
    "3,5\n",
    "Then, the output of the program should be:\n",
    "[[0, 0, 0, 0, 0], [0, 1, 2, 3, 4], [0, 2, 4, 6, 8]]"
   ]
  },
  {
   "cell_type": "code",
   "execution_count": 2,
   "id": "46286c11-1d9a-420b-8b42-3fa6b673f317",
   "metadata": {},
   "outputs": [
    {
     "name": "stdout",
     "output_type": "stream",
     "text": [
      "[[0, 0, 0, 0, 0], [0, 1, 2, 3, 4], [0, 2, 4, 6, 8]]\n"
     ]
    }
   ],
   "source": [
    "def generate_2d_array(X, Y):\n",
    "    result = [[i * j for j in range(Y)] for i in range(X)]\n",
    "    return result\n",
    "\n",
    "X, Y = 3, 5\n",
    "output = generate_2d_array(X, Y)\n",
    "print(output)\n"
   ]
  },
  {
   "cell_type": "markdown",
   "id": "d23a6569-e1fa-425c-b9bb-6933f81969bc",
   "metadata": {},
   "source": [
    "Question 3:\n",
    "Write a program that accepts a comma separated sequence of words as input and prints the\n",
    "words in a comma-separated sequence after sorting them alphabetically.\n",
    "Suppose the following input is supplied to the program:\n",
    "without,hello,bag,world\n",
    "Then, the output should be:\n",
    "bag,hello,without,world"
   ]
  },
  {
   "cell_type": "code",
   "execution_count": 3,
   "id": "6b77a6a2-ae46-4f17-acc7-95d355972cbc",
   "metadata": {},
   "outputs": [
    {
     "name": "stdout",
     "output_type": "stream",
     "text": [
      "bag,hello,without,world\n"
     ]
    }
   ],
   "source": [
    "input_sequence = \"without,hello,bag,world\"\n",
    "sorted_words = sorted(input_sequence.split(','))\n",
    "output = ','.join(sorted_words)\n",
    "print(output)\n"
   ]
  },
  {
   "cell_type": "markdown",
   "id": "b6dba3c6-4a59-41d6-8cb7-05b9e4c4edeb",
   "metadata": {},
   "source": [
    "Question 4:\n",
    "Write a program that accepts a sequence of whitespace separated words as input and prints\n",
    "the words after removing all duplicate words and sorting them alphanumerically.\n",
    "Suppose the following input is supplied to the program:\n",
    "hello world and practice makes perfect and hello world again\n",
    "Then, the output should be:\n",
    "again and hello makes perfect practice world"
   ]
  },
  {
   "cell_type": "code",
   "execution_count": 4,
   "id": "0ee5480e-7291-4e81-ba5d-c8ea2c878713",
   "metadata": {},
   "outputs": [
    {
     "name": "stdout",
     "output_type": "stream",
     "text": [
      "again and hello makes perfect practice world\n"
     ]
    }
   ],
   "source": [
    "input_sequence = \"hello world and practice makes perfect and hello world again\"\n",
    "unique_words = sorted(set(input_sequence.split()))\n",
    "output = ' '.join(unique_words)\n",
    "print(output)\n"
   ]
  },
  {
   "cell_type": "markdown",
   "id": "b765063a-6c0e-41d4-b68b-da5cd77a51af",
   "metadata": {},
   "source": [
    "Question 5:\n",
    "Write a program that accepts a sentence and calculate the number of letters and digits.\n",
    "Suppose the following input is supplied to the program:\n",
    "hello world! 123\n",
    "Then, the output should be:\n",
    "LETTERS 10\n",
    "\n",
    "DIGITS 3"
   ]
  },
  {
   "cell_type": "code",
   "execution_count": null,
   "id": "732751ab-1e3a-4211-81ed-700465675f86",
   "metadata": {},
   "outputs": [],
   "source": []
  }
 ],
 "metadata": {
  "kernelspec": {
   "display_name": "Python 3 (ipykernel)",
   "language": "python",
   "name": "python3"
  },
  "language_info": {
   "codemirror_mode": {
    "name": "ipython",
    "version": 3
   },
   "file_extension": ".py",
   "mimetype": "text/x-python",
   "name": "python",
   "nbconvert_exporter": "python",
   "pygments_lexer": "ipython3",
   "version": "3.10.6"
  }
 },
 "nbformat": 4,
 "nbformat_minor": 5
}
