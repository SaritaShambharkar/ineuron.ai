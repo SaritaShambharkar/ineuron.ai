{
 "cells": [
  {
   "cell_type": "markdown",
   "id": "3e6f6f8f-e6e8-44b1-9a1e-e00f3753c22e",
   "metadata": {},
   "source": [
    "Question 1:\n",
    "Please write a program using generator to print the numbers which can be divisible by 5 and\n",
    "7 between 0 and n in comma separated form while n is input by console.\n",
    "Example:\n",
    "If the following n is given as input to the program:\n",
    "100\n",
    "Then, the output of the program should be:\n",
    "0,35,70"
   ]
  },
  {
   "cell_type": "code",
   "execution_count": 3,
   "id": "88bdaf13-6129-4d99-9e7b-4b1b6044123d",
   "metadata": {},
   "outputs": [
    {
     "name": "stdin",
     "output_type": "stream",
     "text": [
      "Enter the value of n:  56\n"
     ]
    },
    {
     "name": "stdout",
     "output_type": "stream",
     "text": [
      "0,35\n"
     ]
    }
   ],
   "source": [
    "def divisible_by_5_and_7_generator(n):\n",
    "    for num in range(n + 1):\n",
    "        if num % 5 == 0 and num % 7 == 0:\n",
    "            yield num\n",
    "\n",
    "n = int(input(\"Enter the value of n: \"))\n",
    "result = list(divisible_by_5_and_7_generator(n))\n",
    "print(','.join(map(str, result)))\n"
   ]
  },
  {
   "cell_type": "markdown",
   "id": "19c29290-8dfd-491d-80a2-98485470e13f",
   "metadata": {},
   "source": [
    "Question 2:\n",
    "Please write a program using generator to print the even numbers between 0 and n in comma\n",
    "separated form while n is input by console.\n",
    "Example:\n",
    "If the following n is given as input to the program:\n",
    "10\n",
    "Then, the output of the program should be:\n",
    "0,2,4,6,8,10"
   ]
  },
  {
   "cell_type": "code",
   "execution_count": 4,
   "id": "b63544f5-66a8-44fb-8bdc-d5ee5e3e75d8",
   "metadata": {},
   "outputs": [
    {
     "name": "stdin",
     "output_type": "stream",
     "text": [
      "Enter the value of n:  8\n"
     ]
    },
    {
     "name": "stdout",
     "output_type": "stream",
     "text": [
      "0,2,4,6,8\n"
     ]
    }
   ],
   "source": [
    "def even_numbers_generator(n):\n",
    "    for num in range(n + 1):\n",
    "        if num % 2 == 0:\n",
    "            yield num\n",
    "\n",
    "n = int(input(\"Enter the value of n: \"))\n",
    "result = list(even_numbers_generator(n))\n",
    "print(','.join(map(str, result)))\n"
   ]
  },
  {
   "cell_type": "markdown",
   "id": "48fed6af-45a0-472d-89e1-314ca60e3580",
   "metadata": {},
   "source": [
    "Question 4:\n",
    "Assuming that we have some email addresses in the &quot;username@companyname.com&quot; format,\n",
    "please write program to print the user name of a given email address. Both user names and\n",
    "company names are composed of letters only.\n",
    "Example:\n",
    "If the following email address is given as input to the program:\n",
    "john@google.com\n",
    "Then, the output of the program should be:\n",
    "john"
   ]
  },
  {
   "cell_type": "code",
   "execution_count": 9,
   "id": "f6204f6f-b4ac-47cf-a93f-4807ef8ce865",
   "metadata": {},
   "outputs": [
    {
     "name": "stdin",
     "output_type": "stream",
     "text": [
      "Enter the email address:  sarita@gmail.com\n"
     ]
    },
    {
     "name": "stdout",
     "output_type": "stream",
     "text": [
      "sarita\n"
     ]
    }
   ],
   "source": [
    "email_address = input(\"Enter the email address: \")\n",
    "user_name = email_address.split('@')[0]\n",
    "print(user_name)\n"
   ]
  },
  {
   "cell_type": "code",
   "execution_count": null,
   "id": "674008e4-5004-46e8-ae52-cb6d99197239",
   "metadata": {},
   "outputs": [],
   "source": []
  }
 ],
 "metadata": {
  "kernelspec": {
   "display_name": "Python 3 (ipykernel)",
   "language": "python",
   "name": "python3"
  },
  "language_info": {
   "codemirror_mode": {
    "name": "ipython",
    "version": 3
   },
   "file_extension": ".py",
   "mimetype": "text/x-python",
   "name": "python",
   "nbconvert_exporter": "python",
   "pygments_lexer": "ipython3",
   "version": "3.10.6"
  }
 },
 "nbformat": 4,
 "nbformat_minor": 5
}
