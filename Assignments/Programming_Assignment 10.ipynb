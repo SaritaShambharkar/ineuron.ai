{
 "cells": [
  {
   "cell_type": "markdown",
   "id": "d5c64be8-9c2b-44e6-a66b-f9124c9ccc53",
   "metadata": {},
   "source": [
    "1. Write a Python program to find sum of elements in list?"
   ]
  },
  {
   "cell_type": "code",
   "execution_count": 1,
   "id": "5bbae25e-3878-426e-96e7-572f30e19c3b",
   "metadata": {},
   "outputs": [
    {
     "name": "stdout",
     "output_type": "stream",
     "text": [
      "Sum of elements: 15\n"
     ]
    }
   ],
   "source": [
    "my_list = [1, 2, 3, 4, 5]\n",
    "sum_elements = sum(my_list)\n",
    "print(\"Sum of elements:\", sum_elements)\n"
   ]
  },
  {
   "cell_type": "markdown",
   "id": "50878a88-23b4-4517-b81e-e8e959811b4f",
   "metadata": {},
   "source": [
    "2. Write a Python program to Multiply all numbers in the list?"
   ]
  },
  {
   "cell_type": "code",
   "execution_count": 2,
   "id": "f9efdf46-6422-4cc4-a2b7-4b16f431921e",
   "metadata": {},
   "outputs": [
    {
     "name": "stdout",
     "output_type": "stream",
     "text": [
      "Product of elements: 120\n"
     ]
    }
   ],
   "source": [
    "from functools import reduce\n",
    "\n",
    "my_list = [1, 2, 3, 4, 5]\n",
    "product = reduce((lambda x, y: x * y), my_list)\n",
    "print(\"Product of elements:\", product)\n"
   ]
  },
  {
   "cell_type": "markdown",
   "id": "605cba5c-4730-4d48-8e48-e3e00e4838ea",
   "metadata": {},
   "source": [
    "3. Write a Python program to find smallest number in a list?"
   ]
  },
  {
   "cell_type": "code",
   "execution_count": 3,
   "id": "5fea8948-3bcc-46a6-9c1a-7b225988a147",
   "metadata": {},
   "outputs": [
    {
     "name": "stdout",
     "output_type": "stream",
     "text": [
      "Smallest number: 1\n"
     ]
    }
   ],
   "source": [
    "my_list = [3, 1, 4, 2, 5]\n",
    "smallest = min(my_list)\n",
    "print(\"Smallest number:\", smallest)\n"
   ]
  },
  {
   "cell_type": "markdown",
   "id": "a145eb01-2f86-43af-877e-86ddeffe3f25",
   "metadata": {},
   "source": [
    "4. Write a Python program to find largest number in a list?"
   ]
  },
  {
   "cell_type": "code",
   "execution_count": 4,
   "id": "ee9d45c2-16eb-4f72-af71-5b76d78e2984",
   "metadata": {},
   "outputs": [
    {
     "name": "stdout",
     "output_type": "stream",
     "text": [
      "Largest number: 5\n"
     ]
    }
   ],
   "source": [
    "my_list = [3, 1, 4, 2, 5]\n",
    "largest = max(my_list)\n",
    "print(\"Largest number:\", largest)\n"
   ]
  },
  {
   "cell_type": "markdown",
   "id": "33c2c339-3554-42b6-9ea8-936d2bcb2cab",
   "metadata": {},
   "source": [
    "5. Write a Python program to find second largest number in a list?"
   ]
  },
  {
   "cell_type": "code",
   "execution_count": 5,
   "id": "00ee8131-60a2-43b4-9968-8c444b838c26",
   "metadata": {},
   "outputs": [
    {
     "name": "stdout",
     "output_type": "stream",
     "text": [
      "Second largest number: 4\n"
     ]
    }
   ],
   "source": [
    "my_list = [3, 1, 4, 2, 5]\n",
    "sorted_list = sorted(my_list)\n",
    "second_largest = sorted_list[-2]\n",
    "print(\"Second largest number:\", second_largest)\n"
   ]
  },
  {
   "cell_type": "markdown",
   "id": "a8f1b42d-dd80-4309-850c-9549194a91f5",
   "metadata": {},
   "source": [
    "6. Write a Python program to find N largest elements from a list?"
   ]
  },
  {
   "cell_type": "code",
   "execution_count": 6,
   "id": "d8dc351c-e39c-4f02-97c4-f6ab4ff85482",
   "metadata": {},
   "outputs": [
    {
     "name": "stdout",
     "output_type": "stream",
     "text": [
      "3 largest elements: [5, 4, 3]\n"
     ]
    }
   ],
   "source": [
    "my_list = [3, 1, 4, 2, 5]\n",
    "n = 3\n",
    "n_largest = sorted(my_list, reverse=True)[:n]\n",
    "print(f\"{n} largest elements:\", n_largest)\n"
   ]
  },
  {
   "cell_type": "markdown",
   "id": "600cfee7-b2d4-4173-a9e7-d443c0e94a1b",
   "metadata": {},
   "source": [
    "7. Write a Python program to print even numbers in a list?"
   ]
  },
  {
   "cell_type": "code",
   "execution_count": 7,
   "id": "7c6353dd-0c12-4602-913a-051272396f8b",
   "metadata": {},
   "outputs": [
    {
     "name": "stdout",
     "output_type": "stream",
     "text": [
      "Even numbers: [2, 4]\n"
     ]
    }
   ],
   "source": [
    "my_list = [1, 2, 3, 4, 5]\n",
    "even_numbers = [num for num in my_list if num % 2 == 0]\n",
    "print(\"Even numbers:\", even_numbers)\n"
   ]
  },
  {
   "cell_type": "markdown",
   "id": "4837ffbd-544b-4e00-9725-2f7934c696e9",
   "metadata": {},
   "source": [
    "8. Write a Python program to print odd numbers in a List?"
   ]
  },
  {
   "cell_type": "code",
   "execution_count": 8,
   "id": "0bfa7bb9-3864-41bb-94cc-d551c6afdb2c",
   "metadata": {},
   "outputs": [
    {
     "name": "stdout",
     "output_type": "stream",
     "text": [
      "Odd numbers: [1, 3, 5]\n"
     ]
    }
   ],
   "source": [
    "my_list = [1, 2, 3, 4, 5]\n",
    "odd_numbers = [num for num in my_list if num % 2 != 0]\n",
    "print(\"Odd numbers:\", odd_numbers)\n",
    "\n"
   ]
  },
  {
   "cell_type": "code",
   "execution_count": null,
   "id": "3c7770a4-da1f-46b2-a929-d76854fd20e8",
   "metadata": {},
   "outputs": [],
   "source": []
  }
 ],
 "metadata": {
  "kernelspec": {
   "display_name": "Python 3 (ipykernel)",
   "language": "python",
   "name": "python3"
  },
  "language_info": {
   "codemirror_mode": {
    "name": "ipython",
    "version": 3
   },
   "file_extension": ".py",
   "mimetype": "text/x-python",
   "name": "python",
   "nbconvert_exporter": "python",
   "pygments_lexer": "ipython3",
   "version": "3.10.6"
  }
 },
 "nbformat": 4,
 "nbformat_minor": 5
}
