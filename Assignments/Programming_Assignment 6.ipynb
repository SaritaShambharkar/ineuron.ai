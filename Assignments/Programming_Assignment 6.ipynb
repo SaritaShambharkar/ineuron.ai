{
 "cells": [
  {
   "cell_type": "markdown",
   "id": "2e18d81e",
   "metadata": {},
   "source": [
    "1. Write a Python Program for cube sum of first n natural numbers?"
   ]
  },
  {
   "cell_type": "code",
   "execution_count": 1,
   "id": "152b6bcc",
   "metadata": {},
   "outputs": [
    {
     "name": "stdout",
     "output_type": "stream",
     "text": [
      "Enter a positive integer (n): 3\n",
      "The cube sum of the first 3 natural numbers is: 36\n"
     ]
    }
   ],
   "source": [
    "# Function to calculate the cube sum of the first n natural numbers\n",
    "def cube_sum(n):\n",
    "    if n <= 0:\n",
    "        return 0\n",
    "    else:\n",
    "        return (n ** 3) + cube_sum(n - 1)\n",
    "\n",
    "# Input the value of n from the user\n",
    "n = int(input(\"Enter a positive integer (n): \"))\n",
    "\n",
    "# Check if the input is valid\n",
    "if n <= 0:\n",
    "    print(\"Please enter a positive integer.\")\n",
    "else:\n",
    "    # Calculate and print the cube sum\n",
    "    result = cube_sum(n)\n",
    "    print(f\"The cube sum of the first {n} natural numbers is: {result}\")\n"
   ]
  },
  {
   "cell_type": "markdown",
   "id": "0e29a382",
   "metadata": {},
   "source": [
    "2. Write a Python Program to calculate the natural logarithm of any number?"
   ]
  },
  {
   "cell_type": "code",
   "execution_count": 2,
   "id": "aa362bdf",
   "metadata": {},
   "outputs": [
    {
     "name": "stdout",
     "output_type": "stream",
     "text": [
      "Enter a positive number: 7\n",
      "The natural logarithm of 7.0 is approximately: 1.9459\n"
     ]
    }
   ],
   "source": [
    "import math\n",
    "\n",
    "# Input a positive number from the user\n",
    "x = float(input(\"Enter a positive number: \"))\n",
    "\n",
    "# Check if the input is valid\n",
    "if x <= 0:\n",
    "    print(\"Please enter a positive number.\")\n",
    "else:\n",
    "    # Calculate the natural logarithm (ln) of the number\n",
    "    result = math.log(x)\n",
    "\n",
    "    # Print the result\n",
    "    print(f\"The natural logarithm of {x} is approximately: {result:.4f}\")\n"
   ]
  },
  {
   "cell_type": "markdown",
   "id": "0d51a07d",
   "metadata": {},
   "source": [
    "3. Write a Python Program to calculate your Body Mass Index?"
   ]
  },
  {
   "cell_type": "code",
   "execution_count": 3,
   "id": "e38208d0",
   "metadata": {},
   "outputs": [
    {
     "name": "stdout",
     "output_type": "stream",
     "text": [
      "Enter your weight in kilograms: 4\n",
      "Enter your height in meters: 5\n",
      "Your Body Mass Index (BMI) is: 0.16\n",
      "Category: Underweight\n"
     ]
    }
   ],
   "source": [
    "# Input weight in kilograms and height in meters from the user\n",
    "weight_kg = float(input(\"Enter your weight in kilograms: \"))\n",
    "height_m = float(input(\"Enter your height in meters: \"))\n",
    "\n",
    "# Calculate BMI\n",
    "bmi = weight_kg / (height_m ** 2)\n",
    "\n",
    "# Print the BMI and corresponding category\n",
    "print(f\"Your Body Mass Index (BMI) is: {bmi:.2f}\")\n",
    "\n",
    "# Determine the category based on BMI\n",
    "if bmi < 18.5:\n",
    "    print(\"Category: Underweight\")\n",
    "elif 18.5 <= bmi < 24.9:\n",
    "    print(\"Category: Normal Weight\")\n",
    "elif 24.9 <= bmi < 29.9:\n",
    "    print(\"Category: Overweight\")\n",
    "else:\n",
    "    print(\"Category: Obesity\")\n"
   ]
  },
  {
   "cell_type": "code",
   "execution_count": null,
   "id": "0a6bb7bd",
   "metadata": {},
   "outputs": [],
   "source": []
  }
 ],
 "metadata": {
  "kernelspec": {
   "display_name": "Python 3 (ipykernel)",
   "language": "python",
   "name": "python3"
  },
  "language_info": {
   "codemirror_mode": {
    "name": "ipython",
    "version": 3
   },
   "file_extension": ".py",
   "mimetype": "text/x-python",
   "name": "python",
   "nbconvert_exporter": "python",
   "pygments_lexer": "ipython3",
   "version": "3.9.13"
  }
 },
 "nbformat": 4,
 "nbformat_minor": 5
}
