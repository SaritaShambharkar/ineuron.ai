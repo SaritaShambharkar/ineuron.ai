{
 "cells": [
  {
   "cell_type": "code",
   "execution_count": 5,
   "id": "54992333",
   "metadata": {},
   "outputs": [
    {
     "name": "stdout",
     "output_type": "stream",
     "text": [
      "iNeuron\n"
     ]
    }
   ],
   "source": [
    "#1. What is the result of the code, and explain?\n",
    "\n",
    "X = 'iNeuron'\n",
    "def func():\n",
    "    print(X)\n",
    "\n",
    "func()\n"
   ]
  },
  {
   "cell_type": "markdown",
   "id": "94354832",
   "metadata": {},
   "source": [
    "Explanation: The variable X is defined outside the func function as a global variable. Inside the func function, when print(X) is called, it accesses the global variable X and prints its value, which is \"iNeuron.\""
   ]
  },
  {
   "cell_type": "code",
   "execution_count": 7,
   "id": "3d3aed47",
   "metadata": {},
   "outputs": [
    {
     "name": "stdout",
     "output_type": "stream",
     "text": [
      "iNeuron\n"
     ]
    }
   ],
   "source": [
    "\n",
    "# 2. What is the result of the code, and explain?\n",
    "\n",
    "X = 'iNeuron'\n",
    "def func():\n",
    "    X = 'NI!'\n",
    "\n",
    "\n",
    "func()\n",
    "print(X)\n"
   ]
  },
  {
   "cell_type": "markdown",
   "id": "126a7101",
   "metadata": {},
   "source": [
    "Explanation: Inside the func function, a local variable X is assigned the value \"NI!\". When func() is called, it updates the local variable X, but this doesn't affect the global variable X. When print(X) is called outside the function, it prints the value of the global variable X, which is still \"iNeuron.\""
   ]
  },
  {
   "cell_type": "code",
   "execution_count": 9,
   "id": "a30451c7",
   "metadata": {},
   "outputs": [
    {
     "name": "stdout",
     "output_type": "stream",
     "text": [
      "NI\n",
      "iNeuron\n"
     ]
    }
   ],
   "source": [
    "# 3. What does this code print, and why?\n",
    "\n",
    "X = 'iNeuron'\n",
    "def func():\n",
    "    X = 'NI'\n",
    "    print(X)\n",
    "\n",
    "func()\n",
    "print(X)\n"
   ]
  },
  {
   "cell_type": "markdown",
   "id": "c0862f8a",
   "metadata": {},
   "source": [
    "Explanation: Inside the func function, a local variable X is assigned the value \"NI.\" When func() is called, it prints the value of the local variable X, which is \"NI.\" However, outside the function, the global variable X with the value \"iNeuron\" is still accessible and is printed."
   ]
  },
  {
   "cell_type": "code",
   "execution_count": 11,
   "id": "ff99b2db",
   "metadata": {},
   "outputs": [
    {
     "name": "stdout",
     "output_type": "stream",
     "text": [
      "NI\n"
     ]
    }
   ],
   "source": [
    "# 4. What output does this code produce? Why?\n",
    "\n",
    "\n",
    "X = 'iNeuron'\n",
    "def func():\n",
    "    global X\n",
    "    X = 'NI'\n",
    "\n",
    "func()\n",
    "print(X)\n",
    "\n"
   ]
  },
  {
   "cell_type": "markdown",
   "id": "f6359568",
   "metadata": {},
   "source": [
    "Explanation: Inside the func function, the global keyword is used to declare that the variable X being modified is the global variable. It updates the global variable X to \"NI.\" When func() is called, it changes the global X, and when print(X) is called outside the function, it prints the updated value, which is \"NI.\""
   ]
  },
  {
   "cell_type": "code",
   "execution_count": 12,
   "id": "3efe3b53",
   "metadata": {},
   "outputs": [
    {
     "name": "stdout",
     "output_type": "stream",
     "text": [
      "iNeuron\n"
     ]
    },
    {
     "data": {
      "text/plain": [
       "'iNeuron'"
      ]
     },
     "execution_count": 12,
     "metadata": {},
     "output_type": "execute_result"
    }
   ],
   "source": [
    "\n",
    "# 5. What about this code—what’s the output, and why?\n",
    "\n",
    "\n",
    "X = 'iNeuron'\n",
    "def func():\n",
    "    X = 'NI'\n",
    "def nested():\n",
    "    print(X)\n",
    "nested()\n",
    "\n",
    "\n",
    "func()\n",
    "X\n"
   ]
  },
  {
   "cell_type": "code",
   "execution_count": null,
   "id": "42e28f3a",
   "metadata": {},
   "outputs": [],
   "source": []
  }
 ],
 "metadata": {
  "kernelspec": {
   "display_name": "Python 3 (ipykernel)",
   "language": "python",
   "name": "python3"
  },
  "language_info": {
   "codemirror_mode": {
    "name": "ipython",
    "version": 3
   },
   "file_extension": ".py",
   "mimetype": "text/x-python",
   "name": "python",
   "nbconvert_exporter": "python",
   "pygments_lexer": "ipython3",
   "version": "3.9.13"
  }
 },
 "nbformat": 4,
 "nbformat_minor": 5
}
