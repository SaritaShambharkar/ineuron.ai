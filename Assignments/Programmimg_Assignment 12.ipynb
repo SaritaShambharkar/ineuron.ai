{
 "cells": [
  {
   "cell_type": "markdown",
   "id": "4b901059-f8f3-4e4e-95ba-85f29909cf62",
   "metadata": {},
   "source": [
    "1. Write a Python program to Extract Unique values dictionary values?"
   ]
  },
  {
   "cell_type": "code",
   "execution_count": 1,
   "id": "a382c43c-fb86-4792-9068-c85113170a42",
   "metadata": {},
   "outputs": [
    {
     "name": "stdout",
     "output_type": "stream",
     "text": [
      "Unique values: [1, 2, 3, 4, 5]\n"
     ]
    }
   ],
   "source": [
    "def extract_unique_values(input_dict):\n",
    "    unique_values = set(val for sublist in input_dict.values() for val in sublist)\n",
    "    return list(unique_values)\n",
    "\n",
    "my_dict = {'a': [1, 2, 3], 'b': [2, 3, 4], 'c': [3, 4, 5]}\n",
    "result = extract_unique_values(my_dict)\n",
    "print(\"Unique values:\", result)\n"
   ]
  },
  {
   "cell_type": "markdown",
   "id": "7d23e0c9-2800-4dc0-af83-f2039e2d0c36",
   "metadata": {},
   "source": [
    "2. Write a Python program to find the sum of all items in a dictionary?"
   ]
  },
  {
   "cell_type": "code",
   "execution_count": 2,
   "id": "dd9dc8a0-5cda-4349-9246-1132b4737216",
   "metadata": {},
   "outputs": [
    {
     "name": "stdout",
     "output_type": "stream",
     "text": [
      "Sum of items: [1, 2, 3, 2, 3, 4, 3, 4, 5]\n"
     ]
    }
   ],
   "source": [
    "def sum_of_dictionary_items(input_dict):\n",
    "    return sum(input_dict.values(), [])\n",
    "\n",
    "my_dict = {'a': [1, 2, 3], 'b': [2, 3, 4], 'c': [3, 4, 5]}\n",
    "result = sum_of_dictionary_items(my_dict)\n",
    "print(\"Sum of items:\", result)\n"
   ]
  },
  {
   "cell_type": "markdown",
   "id": "4787897c-0536-4601-a91c-a622d19782bd",
   "metadata": {},
   "source": [
    "3. Write a Python program to Merging two Dictionaries?"
   ]
  },
  {
   "cell_type": "code",
   "execution_count": 3,
   "id": "0a5b7357-4c4f-4c7d-8b2e-04f58e240b20",
   "metadata": {},
   "outputs": [
    {
     "name": "stdout",
     "output_type": "stream",
     "text": [
      "Merged dictionary: {'a': 1, 'b': 3, 'c': 4}\n"
     ]
    }
   ],
   "source": [
    "def merge_dictionaries(dict1, dict2):\n",
    "    merged_dict = {**dict1, **dict2}\n",
    "    return merged_dict\n",
    "\n",
    "dict_a = {'a': 1, 'b': 2}\n",
    "dict_b = {'b': 3, 'c': 4}\n",
    "result = merge_dictionaries(dict_a, dict_b)\n",
    "print(\"Merged dictionary:\", result)\n"
   ]
  },
  {
   "cell_type": "code",
   "execution_count": null,
   "id": "ad0f7684-cc85-46a4-8647-7a4e8eb0cd4c",
   "metadata": {},
   "outputs": [],
   "source": []
  }
 ],
 "metadata": {
  "kernelspec": {
   "display_name": "Python 3 (ipykernel)",
   "language": "python",
   "name": "python3"
  },
  "language_info": {
   "codemirror_mode": {
    "name": "ipython",
    "version": 3
   },
   "file_extension": ".py",
   "mimetype": "text/x-python",
   "name": "python",
   "nbconvert_exporter": "python",
   "pygments_lexer": "ipython3",
   "version": "3.10.6"
  }
 },
 "nbformat": 4,
 "nbformat_minor": 5
}
